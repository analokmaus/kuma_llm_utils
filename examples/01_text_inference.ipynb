{
 "cells": [
  {
   "cell_type": "code",
   "execution_count": 1,
   "metadata": {},
   "outputs": [],
   "source": [
    "%load_ext autoreload\n",
    "%autoreload 2"
   ]
  },
  {
   "cell_type": "code",
   "execution_count": 2,
   "metadata": {},
   "outputs": [],
   "source": [
    "from kuma_llm_utils.llm import (\n",
    "    OpenAIClient, OpenAIWorker, \n",
    "    AnthropicClient, AnthropicWorker,\n",
    "    GoogleAIClient, GoogleAIWorker)"
   ]
  },
  {
   "cell_type": "code",
   "execution_count": 3,
   "metadata": {},
   "outputs": [],
   "source": [
    "import os\n",
    "\n",
    "os.environ['ANTHROPIC_API_KEY'] = \"ENTER_YOUR_API_KEY\"\n",
    "os.environ['OPENAI_API_KEY'] = \"ENTER_YOUR_API_KEY\"\n",
    "os.environ['GOOGLE_AI_API_KEY']= \"ENTER_YOUR_API_KEY\""
   ]
  },
  {
   "cell_type": "markdown",
   "metadata": {},
   "source": [
    "# Load clients"
   ]
  },
  {
   "cell_type": "code",
   "execution_count": 4,
   "metadata": {},
   "outputs": [],
   "source": [
    "openai_engine = OpenAIClient()\n",
    "anthropic_engine = AnthropicClient()\n",
    "google_engine = GoogleAIClient()"
   ]
  },
  {
   "cell_type": "markdown",
   "metadata": {},
   "source": [
    "# Define the task"
   ]
  },
  {
   "cell_type": "code",
   "execution_count": 5,
   "metadata": {},
   "outputs": [],
   "source": [
    "sample_prompt = '''\\\n",
    "Answer to the following questions:\n",
    "1. {question1}\n",
    "2. {question2}\n",
    "3. {question3}\n",
    "'''"
   ]
  },
  {
   "cell_type": "code",
   "execution_count": 6,
   "metadata": {},
   "outputs": [],
   "source": [
    "openai_worker = OpenAIWorker(\n",
    "    engine=openai_engine, \n",
    "    prompt_template=sample_prompt,\n",
    "    generation_params={'model': 'gpt-4o-mini'})\n",
    "\n",
    "anthropic_worker = AnthropicWorker(\n",
    "    engine=anthropic_engine, \n",
    "    prompt_template=sample_prompt,\n",
    "    generation_params={'model': 'claude-3-5-haiku-latest', 'max_tokens': 1024})\n",
    "\n",
    "gemini_worker = GoogleAIWorker(\n",
    "    engine=google_engine, \n",
    "    prompt_template=sample_prompt,\n",
    "    generation_params={'model': 'gemini-2.0-flash-exp'})"
   ]
  },
  {
   "cell_type": "markdown",
   "metadata": {},
   "source": [
    "# Generate!"
   ]
  },
  {
   "cell_type": "code",
   "execution_count": 7,
   "metadata": {},
   "outputs": [
    {
     "name": "stderr",
     "output_type": "stream",
     "text": [
      "2025-01-28 16:19:06,156 - 77   - INFO     - OpenAIClient |  gpt-4o-mini {'request': 1, 'token': 156}\n"
     ]
    },
    {
     "name": "stdout",
     "output_type": "stream",
     "text": [
      "1. The highest mountain in Japan is Mount Fuji, which stands at 3,776 meters (12,389 feet) above sea level.\n",
      "2. The highest mountain on Earth is Mount Everest, which reaches an elevation of 8,848.86 meters (29,031.7 feet) above sea level.\n",
      "3. The highest mountain in the Solar System is Olympus Mons, located on Mars. It is approximately 22 kilometers (13.6 miles) high, making it about two and a half times the height of Mount Everest.\n"
     ]
    }
   ],
   "source": [
    "print(await openai_worker.generate([{\n",
    "    'question1': 'What is the highest mountain in Japan?',\n",
    "    'question2': 'What is the highest mountain on the Earth?',\n",
    "    'question3': 'What is the highest mountain in the Solar System?'}]))"
   ]
  },
  {
   "cell_type": "code",
   "execution_count": 8,
   "metadata": {},
   "outputs": [
    {
     "name": "stderr",
     "output_type": "stream",
     "text": [
      "2025-01-28 16:19:09,376 - 83   - INFO     - AnthropicClient |  claude-3-5-haiku-latest {'request': 1, 'input_token': 49, 'output_token': 163}\n"
     ]
    },
    {
     "name": "stdout",
     "output_type": "stream",
     "text": [
      "Here are the answers to your questions:\n",
      "\n",
      "1. Mount Fuji is the highest mountain in Japan, with an elevation of 3,776 meters (12,389 feet) above sea level.\n",
      "\n",
      "2. Mount Everest is the highest mountain on Earth, located in the Himalayas on the border between Nepal and China. Its peak is 8,848 meters (29,029 feet) above sea level.\n",
      "\n",
      "3. Olympus Mons on Mars is the highest mountain in the Solar System. It is an enormous shield volcano that stands about 21.9 kilometers (13.6 miles) high and is approximately 600 kilometers (372 miles) in diameter, making it much larger than any mountain on Earth.\n"
     ]
    }
   ],
   "source": [
    "print(await anthropic_worker.generate([{\n",
    "    'question1': 'What is the highest mountain in Japan?',\n",
    "    'question2': 'What is the highest mountain on the Earth?',\n",
    "    'question3': 'What is the highest mountain in the Solar System?'}]))"
   ]
  },
  {
   "cell_type": "code",
   "execution_count": 9,
   "metadata": {},
   "outputs": [
    {
     "name": "stderr",
     "output_type": "stream",
     "text": [
      "2025-01-28 16:19:11,557 - 70   - INFO     - GoogleAIClient |  gemini-2.0-flash-exp {'request': 1, 'input_token': 44, 'output_token': 114}\n",
      "INFO:default:GoogleAIClient |  gemini-2.0-flash-exp {'request': 1, 'input_token': 44, 'output_token': 114}\n"
     ]
    },
    {
     "name": "stdout",
     "output_type": "stream",
     "text": [
      "Okay, here are the answers to your questions:\n",
      "\n",
      "1.  **What is the highest mountain in Japan?**\n",
      "\n",
      "    The highest mountain in Japan is **Mount Fuji** (also called Fujisan).\n",
      "\n",
      "2.  **What is the highest mountain on the Earth?**\n",
      "\n",
      "    The highest mountain on Earth (measured by altitude above sea level) is **Mount Everest**.\n",
      "\n",
      "3.  **What is the highest mountain in the Solar System?**\n",
      "\n",
      "    The highest mountain in the Solar System is **Olympus Mons** on the planet Mars.\n",
      "\n"
     ]
    }
   ],
   "source": [
    "print(await gemini_worker.generate([{\n",
    "    'question1': 'What is the highest mountain in Japan?',\n",
    "    'question2': 'What is the highest mountain on the Earth?',\n",
    "    'question3': 'What is the highest mountain in the Solar System?'}]))"
   ]
  }
 ],
 "metadata": {
  "kernelspec": {
   "display_name": ".venv",
   "language": "python",
   "name": "python3"
  },
  "language_info": {
   "codemirror_mode": {
    "name": "ipython",
    "version": 3
   },
   "file_extension": ".py",
   "mimetype": "text/x-python",
   "name": "python",
   "nbconvert_exporter": "python",
   "pygments_lexer": "ipython3",
   "version": "3.10.16"
  }
 },
 "nbformat": 4,
 "nbformat_minor": 2
}
