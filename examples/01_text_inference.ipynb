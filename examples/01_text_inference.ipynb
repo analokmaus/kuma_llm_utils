{
 "cells": [
  {
   "cell_type": "code",
   "execution_count": 1,
   "metadata": {},
   "outputs": [],
   "source": [
    "%load_ext autoreload\n",
    "%autoreload 2"
   ]
  },
  {
   "cell_type": "code",
   "execution_count": 2,
   "metadata": {},
   "outputs": [],
   "source": [
    "from kuma_llm_utils.llm import (\n",
    "    OpenAIClient, OpenAIWorker, \n",
    "    AnthropicClient, AnthropicWorker,\n",
    "    GoogleAIClient, GoogleAIWorker)"
   ]
  },
  {
   "cell_type": "code",
   "execution_count": 3,
   "metadata": {},
   "outputs": [],
   "source": [
    "import os\n",
    "\n",
    "os.environ['ANTHROPIC_API_KEY'] = \"ENTER_YOUR_API_KEY\"\n",
    "os.environ['OPENAI_API_KEY'] = \"ENTER_YOUR_API_KEY\"\n",
    "os.environ['GOOGLE_AI_API_KEY']= \"ENTER_YOUR_API_KEY\""
   ]
  },
  {
   "cell_type": "markdown",
   "metadata": {},
   "source": [
    "# Load clients"
   ]
  },
  {
   "cell_type": "code",
   "execution_count": 4,
   "metadata": {},
   "outputs": [],
   "source": [
    "openai_engine = OpenAIClient()\n",
    "anthropic_engine = AnthropicClient()\n",
    "google_engine = GoogleAIClient()"
   ]
  },
  {
   "cell_type": "markdown",
   "metadata": {},
   "source": [
    "# Define the task"
   ]
  },
  {
   "cell_type": "code",
   "execution_count": 5,
   "metadata": {},
   "outputs": [],
   "source": [
    "sample_prompt = '''\\\n",
    "Answer to the following questions:\n",
    "1. {question1}\n",
    "2. {question2}\n",
    "3. {question3}\n",
    "'''"
   ]
  },
  {
   "cell_type": "code",
   "execution_count": 6,
   "metadata": {},
   "outputs": [],
   "source": [
    "openai_worker = OpenAIWorker(\n",
    "    engine=openai_engine, \n",
    "    prompt_template=sample_prompt,\n",
    "    generation_params={'model': 'gpt-4o-mini', 'logprobs': True})\n",
    "\n",
    "anthropic_worker = AnthropicWorker(\n",
    "    engine=anthropic_engine, \n",
    "    prompt_template=sample_prompt,\n",
    "    generation_params={'model': 'claude-3-5-haiku-latest', 'max_tokens': 1024})\n",
    "\n",
    "gemini_worker = GoogleAIWorker(\n",
    "    engine=google_engine, \n",
    "    prompt_template=sample_prompt,\n",
    "    generation_params={'model': 'gemini-2.0-flash-exp'})\n"
   ]
  },
  {
   "cell_type": "markdown",
   "metadata": {},
   "source": [
    "# Generate!"
   ]
  },
  {
   "cell_type": "code",
   "execution_count": 7,
   "metadata": {},
   "outputs": [
    {
     "name": "stderr",
     "output_type": "stream",
     "text": [
      "2025-01-29 09:33:42,830 - 77   - INFO     - OpenAIClient |  gpt-4o-mini {'request': 1, 'token': 86}\n"
     ]
    },
    {
     "name": "stdout",
     "output_type": "stream",
     "text": [
      "1. The highest mountain in Japan is Mount Fuji.\n",
      "2. The highest mountain on Earth is Mount Everest.\n",
      "3. The highest mountain in the Solar System is Olympus Mons, located on Mars.\n"
     ]
    }
   ],
   "source": [
    "print(await openai_worker.generate([{\n",
    "    'question1': 'What is the highest mountain in Japan?',\n",
    "    'question2': 'What is the highest mountain on the Earth?',\n",
    "    'question3': 'What is the highest mountain in the Solar System?'}]))"
   ]
  },
  {
   "cell_type": "code",
   "execution_count": 8,
   "metadata": {},
   "outputs": [
    {
     "name": "stderr",
     "output_type": "stream",
     "text": [
      "2025-01-29 09:33:47,146 - 83   - INFO     - AnthropicClient |  claude-3-5-haiku-latest {'request': 1, 'input_token': 49, 'output_token': 236}\n"
     ]
    },
    {
     "name": "stdout",
     "output_type": "stream",
     "text": [
      "Here are the answers to your questions:\n",
      "\n",
      "1. The highest mountain in Japan is Mount Fuji (富士山, Fujisan), which stands at 3,776 meters (12,389 feet) above sea level. It is an iconic, symmetrical volcanic cone located on Honshu Island and is considered sacred in Japanese culture.\n",
      "\n",
      "2. The highest mountain on Earth is Mount Everest, located in the Himalayas on the border between Nepal and Tibet (an autonomous region of China). It stands at 8,848 meters (29,029 feet) above sea level and is part of the Mahalangur Himal sub-range.\n",
      "\n",
      "3. The highest mountain in the Solar System is Olympus Mons, located on the planet Mars. It is the largest known volcano and mountain in the Solar System, standing at approximately 21.9 kilometers (13.6 miles) high. This is about two and a half times the height of Mount Everest. Olympus Mons is a shield volcano located in Mars' western hemisphere.\n"
     ]
    }
   ],
   "source": [
    "print(await anthropic_worker.generate([{\n",
    "    'question1': 'What is the highest mountain in Japan?',\n",
    "    'question2': 'What is the highest mountain on the Earth?',\n",
    "    'question3': 'What is the highest mountain in the Solar System?'}]))"
   ]
  },
  {
   "cell_type": "code",
   "execution_count": 9,
   "metadata": {},
   "outputs": [
    {
     "name": "stderr",
     "output_type": "stream",
     "text": [
      "2025-01-29 09:33:48,572 - 70   - INFO     - GoogleAIClient |  gemini-2.0-flash-exp {'request': 1, 'input_token': 44, 'output_token': 111}\n",
      "INFO:default:GoogleAIClient |  gemini-2.0-flash-exp {'request': 1, 'input_token': 44, 'output_token': 111}\n"
     ]
    },
    {
     "name": "stdout",
     "output_type": "stream",
     "text": [
      "Okay, here are the answers to your questions:\n",
      "\n",
      "1.  **What is the highest mountain in Japan?**\n",
      "    Mount Fuji (Fujisan) is the highest mountain in Japan.\n",
      "\n",
      "2.  **What is the highest mountain on Earth?**\n",
      "    Mount Everest, located in the Himalayas, is the highest mountain on Earth above sea level.\n",
      "\n",
      "3.  **What is the highest mountain in the Solar System?**\n",
      "    Olympus Mons, a shield volcano on Mars, is the highest mountain in the Solar System.\n",
      "\n"
     ]
    }
   ],
   "source": [
    "print(await gemini_worker.generate([{\n",
    "    'question1': 'What is the highest mountain in Japan?',\n",
    "    'question2': 'What is the highest mountain on the Earth?',\n",
    "    'question3': 'What is the highest mountain in the Solar System?'}]))"
   ]
  },
  {
   "cell_type": "markdown",
   "metadata": {},
   "source": [
    "# Get logprobs\n",
    "Only OpenAI and vLLM models support logprobs output."
   ]
  },
  {
   "cell_type": "code",
   "execution_count": 10,
   "metadata": {},
   "outputs": [
    {
     "name": "stderr",
     "output_type": "stream",
     "text": [
      "2025-01-29 09:33:50,519 - 77   - INFO     - OpenAIClient |  gpt-4o-mini {'request': 1, 'token': 139}\n",
      "INFO:default:OpenAIClient |  gpt-4o-mini {'request': 1, 'token': 139}\n"
     ]
    },
    {
     "data": {
      "text/plain": [
       "[{'token': '1', 'logprob': -6.15835e-05},\n",
       " {'token': '.', 'logprob': 0.0},\n",
       " {'token': ' The', 'logprob': -9.0883464e-07},\n",
       " {'token': ' highest', 'logprob': -5.5122365e-07},\n",
       " {'token': ' mountain', 'logprob': 0.0},\n",
       " {'token': ' in', 'logprob': 0.0},\n",
       " {'token': ' Japan', 'logprob': 0.0},\n",
       " {'token': ' is', 'logprob': 0.0},\n",
       " {'token': ' Mount', 'logprob': -0.021563724},\n",
       " {'token': ' Fuji', 'logprob': -0.00025716738}]"
      ]
     },
     "execution_count": 10,
     "metadata": {},
     "output_type": "execute_result"
    }
   ],
   "source": [
    "output, logprobs = await openai_worker.generate([{\n",
    "    'question1': 'What is the highest mountain in Japan?',\n",
    "    'question2': 'What is the highest mountain on the Earth?',\n",
    "    'question3': 'What is the highest mountain in the Solar System?'}], \n",
    "    return_logprobs=True)\n",
    "logprobs[:10]"
   ]
  }
 ],
 "metadata": {
  "kernelspec": {
   "display_name": ".venv",
   "language": "python",
   "name": "python3"
  },
  "language_info": {
   "codemirror_mode": {
    "name": "ipython",
    "version": 3
   },
   "file_extension": ".py",
   "mimetype": "text/x-python",
   "name": "python",
   "nbconvert_exporter": "python",
   "pygments_lexer": "ipython3",
   "version": "3.10.16"
  }
 },
 "nbformat": 4,
 "nbformat_minor": 2
}
